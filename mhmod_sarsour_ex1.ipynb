{
  "nbformat": 4,
  "nbformat_minor": 0,
  "metadata": {
    "colab": {
      "provenance": []
    },
    "kernelspec": {
      "name": "python3",
      "display_name": "Python 3"
    },
    "language_info": {
      "name": "python"
    }
  },
  "cells": [
    {
      "cell_type": "markdown",
      "source": [
        "https://github.com/mhmodsrsor/igor-nor-ex1"
      ],
      "metadata": {
        "id": "-uv-zdGFA6e2"
      }
    },
    {
      "cell_type": "markdown",
      "source": [
        "1. Load breast cancer dataset (**structured data**)\n",
        "\n",
        "For more details about the data: https://scikit-learn.org/1.5/modules/generated/sklearn.datasets.load_breast_cancer.html"
      ],
      "metadata": {
        "id": "t1I0ncvTh3x8"
      }
    },
    {
      "cell_type": "code",
      "source": [
        "\n",
        "from sklearn.datasets import load_breast_cancer\n",
        "\n",
        "my_data = load_breast_cancer()\n"
      ],
      "metadata": {
        "id": "QbVFGbTWiI1W"
      },
      "execution_count": 36,
      "outputs": []
    },
    {
      "cell_type": "markdown",
      "source": [
        "2. Visualize the data\n",
        "\n",
        "- Only **5 points** for visualizing the data\n",
        "- Use TSNE algorithm: sklearn.manifold.TSNE\n",
        "- A good and simple code can be found here (they used PCA instead of TSNE): https://skp2707.medium.com/pca-on-cancer-dataset-4d7a97f5fdb8"
      ],
      "metadata": {
        "id": "LZgoZpwxXcuz"
      }
    },
    {
      "cell_type": "code",
      "source": [
        "from sklearn.manifold import TSNE\n",
        "import numpy as np\n",
        "import pandas as pd\n",
        "import seaborn as sns\n",
        "import matplotlib.pyplot as plt\n",
        "\n",
        "\n",
        "# Load the dataset into a DataFrame\n",
        "df = pd.DataFrame(my_data.data, columns=my_data.feature_names)\n",
        "df['target'] = my_data.target\n",
        "\n",
        "# Select only 5 data points (for simplicity)\n",
        "df_sample = df.sample(5, random_state=42)\n",
        "\n",
        "# TSNE visualization (using 2 dimensions)\n",
        "tsne = TSNE(n_components=2, random_state=42, perplexity=2)  # perplexity קטן ממספר הדגימות\n",
        "tsne_results = tsne.fit_transform(df_sample[my_data.feature_names])\n",
        "\n",
        "# Add TSNE results to DataFrame\n",
        "df_sample['TSNE_1'] = tsne_results[:, 0]\n",
        "df_sample['TSNE_2'] = tsne_results[:, 1]\n",
        "\n",
        "# Visualize TSNE results\n",
        "plt.figure(figsize=(10, 6))\n",
        "sns.scatterplot(\n",
        "    x='TSNE_1', y='TSNE_2',\n",
        "    hue='target',\n",
        "    palette={0: 'red', 1: 'green'},  # ממאיר באדום, שפיר בירוק\n",
        "    data=df_sample\n",
        ")\n",
        "plt.title('TSNE Visualization (5 Data Points)')\n",
        "plt.xlabel('TSNE Component 1')\n",
        "plt.ylabel('TSNE Component 2')\n",
        "plt.legend(title='Target', labels=['ריפש - Malignant', ' ריאממ- Benign'])\n",
        "plt.show()\n"
      ],
      "metadata": {
        "id": "D3DKodjmYIBD",
        "colab": {
          "base_uri": "https://localhost:8080/",
          "height": 564
        },
        "outputId": "4fd5ba27-1422-4bf0-ad62-80f4f25c900f"
      },
      "execution_count": 37,
      "outputs": [
        {
          "output_type": "display_data",
          "data": {
            "text/plain": [
              "<Figure size 1000x600 with 1 Axes>"
            ],
            "image/png": "[encoded data removed]"
          },
          "metadata": {}
        }
      ]
    },
    {
      "cell_type": "markdown",
      "source": [
        "3. Split **my_data** to train and test:\n",
        "\n",
        "- Define X_train, X_test, Y_train, Y_test\n",
        "- Choose **test_size** for splitting **my_data**\n",
        "- Use **train_test_split** (for details: https://scikit-learn.org/dev/modules/generated/sklearn.model_selection.train_test_split.html)"
      ],
      "metadata": {
        "id": "LpYvmEUWlf2l"
      }
    },
    {
      "cell_type": "code",
      "source": [
        "\n",
        "from sklearn.model_selection import train_test_split\n",
        "\n",
        "# X_train, X_test, Y_train, Y_test = train_test_split(...)\n",
        "# Separate features (X) and target (Y)\n",
        "X = my_data.data #  המאפיינים (features) מהדאטה\n",
        "Y = my_data.target #התגיות (labels), כלומר אם הגידול ממאיר (0) או שפיר (1).\n",
        "\n",
        "# Split the data into training and testing sets\n",
        "X_train, X_test, Y_train, Y_test = train_test_split(\n",
        "    X, Y,\n",
        "    test_size=0.8,  # 80% of the data will be used for testing\n",
        "    random_state=42  # Ensures reproducibility\n",
        ")\n",
        "\n",
        "# Display the shapes of the resulting datasets\n",
        "print(f\"X_train shape: {X_train.shape}\")\n",
        "print(f\"X_test shape: {X_test.shape}\")\n",
        "print(f\"Y_train shape: {Y_train.shape}\")\n",
        "print(f\"Y_test shape: {Y_test.shape}\")\n",
        "\n"
      ],
      "metadata": {
        "id": "V8CpCqnGmCg2",
        "colab": {
          "base_uri": "https://localhost:8080/"
        },
        "outputId": "5bbc75c8-2dfa-476c-9895-fb3530831d6d"
      },
      "execution_count": 38,
      "outputs": [
        {
          "output_type": "stream",
          "name": "stdout",
          "text": [
            "X_train shape: (113, 30)\n",
            "X_test shape: (456, 30)\n",
            "Y_train shape: (113,)\n",
            "Y_test shape: (456,)\n"
          ]
        }
      ]
    },
    {
      "cell_type": "markdown",
      "source": [
        "4. Train **model_decision_tree**\n",
        "\n",
        "- Library: sklearn.tree.DecisionTreeClassifier\n",
        "- Data: X_train, Y_train\n",
        "- **Essential**: explore and optimize DecisionTreeClassifier options   "
      ],
      "metadata": {
        "id": "o1_cFF_cjIyK"
      }
    },
    {
      "cell_type": "code",
      "source": [
        "from sklearn.tree import DecisionTreeClassifier\n",
        "from sklearn.metrics import accuracy_score, classification_report, confusion_matrix\n",
        "\n",
        "\n",
        "# Step 1: Create the model\n",
        "model_decision_tree = DecisionTreeClassifier(\n",
        "    criterion='entropy',      # קריטריון אנטרופיה\n",
        "    max_depth=10,             # עומק מוגבל למניעת התאמת יתר\n",
        "    min_samples_split=10,     # מינימום דוגמאות לפיצול\n",
        "    min_samples_leaf=4,       # עלים עם מספר מינימלי גדול יותר\n",
        "    random_state=42\n",
        ")\n",
        "\n",
        "# Step 2: Train the model\n",
        "model_decision_tree.fit(X_train, Y_train)\n",
        "\n",
        "# Step 3: Predict on train and test data\n",
        "Y_train_pred = model_decision_tree.predict(X_train)\n",
        "Y_test_pred = model_decision_tree.predict(X_test)\n",
        "\n",
        "# Step 4: Evaluate the model\n",
        "train_accuracy = accuracy_score(Y_train, Y_train_pred)\n",
        "test_accuracy = accuracy_score(Y_test, Y_test_pred)\n",
        "\n",
        "print(f\"Train Accuracy: {train_accuracy:.2f}\")\n",
        "print(f\"Test Accuracy: {test_accuracy:.2f}\")\n",
        "\n",
        "# Optional: Detailed evaluation\n",
        "print(\"\\nClassification Report (Test):\")\n",
        "print(classification_report(Y_test, Y_test_pred))\n",
        "print(\"\\nConfusion Matrix (Test):\")\n",
        "print(confusion_matrix(Y_test, Y_test_pred))\n"
      ],
      "metadata": {
        "id": "W8CWNt_2iZm4",
        "colab": {
          "base_uri": "https://localhost:8080/"
        },
        "outputId": "3f18218c-6c23-47ce-f2fb-da33460cb331"
      },
      "execution_count": 39,
      "outputs": [
        {
          "output_type": "stream",
          "name": "stdout",
          "text": [
            "Train Accuracy: 0.97\n",
            "Test Accuracy: 0.93\n",
            "\n",
            "Classification Report (Test):\n",
            "              precision    recall  f1-score   support\n",
            "\n",
            "           0       0.85      0.96      0.90       166\n",
            "           1       0.98      0.90      0.94       290\n",
            "\n",
            "    accuracy                           0.93       456\n",
            "   macro avg       0.91      0.93      0.92       456\n",
            "weighted avg       0.93      0.93      0.93       456\n",
            "\n",
            "\n",
            "Confusion Matrix (Test):\n",
            "[[160   6]\n",
            " [ 28 262]]\n"
          ]
        }
      ]
    },
    {
      "cell_type": "markdown",
      "source": [
        "5. Train model_random_forest\n",
        "- Library: sklearn.ensemble.RandomForestClassifier\n",
        "- Data: X_train, Y_train\n",
        "- **Essential**: explore and optimize RandomForestClassifier options"
      ],
      "metadata": {
        "id": "X__nmyElkPWs"
      }
    },
    {
      "cell_type": "code",
      "source": [
        "from sklearn.ensemble import RandomForestClassifier\n",
        "from sklearn.metrics import accuracy_score, classification_report, confusion_matrix\n",
        "\n",
        "# Step 1: Create the RandomForestClassifier model\n",
        "model_random_forest = RandomForestClassifier(\n",
        "    n_estimators=200,\n",
        "    max_depth=15,\n",
        "    min_samples_split=5,\n",
        "    max_features='log2',\n",
        "    criterion='entropy' ,\n",
        "    random_state=42\n",
        ")\n",
        "\n",
        "# Step 2: Train the model\n",
        "model_random_forest.fit(X_train, Y_train)\n",
        "\n",
        "# Step 3: Make predictions\n",
        "Y_train_pred = model_random_forest.predict(X_train)\n",
        "Y_test_pred = model_random_forest.predict(X_test)\n",
        "\n",
        "# Step 4: Evaluate the model\n",
        "train_accuracy = accuracy_score(Y_train, Y_train_pred)\n",
        "test_accuracy = accuracy_score(Y_test, Y_test_pred)\n",
        "\n",
        "print(f\"Train Accuracy: {train_accuracy:.2f}\")\n",
        "print(f\"Test Accuracy: {test_accuracy:.2f}\")\n",
        "\n",
        "print(\"\\nClassification Report (Test):\")\n",
        "print(classification_report(Y_test, Y_test_pred))\n",
        "\n",
        "print(\"\\nConfusion Matrix (Test):\")\n",
        "print(confusion_matrix(Y_test, Y_test_pred))\n"
      ],
      "metadata": {
        "id": "6B4GKjlCkRdT",
        "colab": {
          "base_uri": "https://localhost:8080/"
        },
        "outputId": "2a76c522-02e8-4806-d15b-4c221ad765e9"
      },
      "execution_count": 45,
      "outputs": [
        {
          "output_type": "stream",
          "name": "stdout",
          "text": [
            "Train Accuracy: 0.99\n",
            "Test Accuracy: 0.96\n",
            "\n",
            "Classification Report (Test):\n",
            "              precision    recall  f1-score   support\n",
            "\n",
            "           0       0.94      0.96      0.95       166\n",
            "           1       0.98      0.97      0.97       290\n",
            "\n",
            "    accuracy                           0.96       456\n",
            "   macro avg       0.96      0.96      0.96       456\n",
            "weighted avg       0.96      0.96      0.96       456\n",
            "\n",
            "\n",
            "Confusion Matrix (Test):\n",
            "[[159   7]\n",
            " [ 10 280]]\n"
          ]
        }
      ]
    },
    {
      "cell_type": "markdown",
      "source": [
        "6. Train model_adaboost\n",
        "\n",
        "- Library: sklearn.ensemble.AdaBoostClassifier\n",
        "- Data: X_train, Y_train\n",
        "- **Essential**: explore and optimize AdaBoostClassifier options"
      ],
      "metadata": {
        "id": "4qOTlMrDkSBM"
      }
    },
    {
      "cell_type": "code",
      "source": [
        "from sklearn.ensemble import AdaBoostClassifier\n",
        "from sklearn.metrics import accuracy_score, classification_report, confusion_matrix\n",
        "\n",
        "# Step 1: Create the AdaBoostClassifier model\n",
        "model_adaboost =  AdaBoostClassifier(\n",
        "    estimator=DecisionTreeClassifier(max_depth=1),  # לומד חלש\n",
        "    n_estimators=50,                               # יותר לומדים חלשים\n",
        "    learning_rate=0.5,                              # קצב למידה נמוך\n",
        "    algorithm='SAMME',                            # אלגוריתם SAMME.R\n",
        "    random_state=42\n",
        ")\n",
        "\n",
        "# Step 2: Train the model\n",
        "model_adaboost.fit(X_train, Y_train)\n",
        "\n",
        "# Step 3: Make predictions\n",
        "Y_train_pred = model_adaboost.predict(X_train)\n",
        "Y_test_pred = model_adaboost.predict(X_test)\n",
        "\n",
        "# Step 4: Evaluate the model\n",
        "train_accuracy = accuracy_score(Y_train, Y_train_pred)\n",
        "test_accuracy = accuracy_score(Y_test, Y_test_pred)\n",
        "\n",
        "print(f\"Train Accuracy: {train_accuracy:.2f}\")\n",
        "print(f\"Test Accuracy: {test_accuracy:.2f}\")\n",
        "\n",
        "print(\"\\nClassification Report (Test):\")\n",
        "print(classification_report(Y_test, Y_test_pred))\n",
        "\n",
        "print(\"\\nConfusion Matrix (Test):\")\n",
        "print(confusion_matrix(Y_test, Y_test_pred))\n",
        "\n"
      ],
      "metadata": {
        "id": "Y5VGaDhJkYsL",
        "colab": {
          "base_uri": "https://localhost:8080/"
        },
        "outputId": "cdea52ea-fecf-4451-913b-7bd283a5ffe2"
      },
      "execution_count": 46,
      "outputs": [
        {
          "output_type": "stream",
          "name": "stdout",
          "text": [
            "Train Accuracy: 1.00\n",
            "Test Accuracy: 0.96\n",
            "\n",
            "Classification Report (Test):\n",
            "              precision    recall  f1-score   support\n",
            "\n",
            "           0       0.93      0.96      0.95       166\n",
            "           1       0.98      0.96      0.97       290\n",
            "\n",
            "    accuracy                           0.96       456\n",
            "   macro avg       0.95      0.96      0.96       456\n",
            "weighted avg       0.96      0.96      0.96       456\n",
            "\n",
            "\n",
            "Confusion Matrix (Test):\n",
            "[[160   6]\n",
            " [ 12 278]]\n"
          ]
        }
      ]
    },
    {
      "cell_type": "markdown",
      "source": [
        "7. Evaluate model_decision_tree, model_random_forest, model_adaboost\n",
        "\n",
        "- Library: sklearn.metrics\n",
        "- Data: X_test, Y_test\n",
        "- **Calculate** and **print** results of each classifier\n",
        "- **Choose** the decisive metric\n",
        "- **Compare** between the classifiers and declare the winner\n"
      ],
      "metadata": {
        "id": "0AdCG5Pfta5S"
      }
    },
    {
      "cell_type": "code",
      "source": [
        "from sklearn.metrics import accuracy_score\n",
        "from sklearn.metrics import confusion_matrix\n",
        "from sklearn.metrics import precision_score\n",
        "from sklearn.metrics import recall_score\n",
        "from sklearn.metrics import f1_score\n",
        "\n",
        "\n",
        "# Function to evaluate a model\n",
        "def evaluate_model(model, X_test, Y_test):\n",
        "    Y_pred = model.predict(X_test)\n",
        "    metrics = {\n",
        "        \"Accuracy\": accuracy_score(Y_test, Y_pred),\n",
        "        \"Precision\": precision_score(Y_test, Y_pred),\n",
        "        \"Recall\": recall_score(Y_test, Y_pred),\n",
        "        \"F1-Score\": f1_score(Y_test, Y_pred),\n",
        "        \"Confusion Matrix\": confusion_matrix(Y_test, Y_pred)\n",
        "    }\n",
        "    return metrics\n",
        "\n",
        "# Evaluate each model\n",
        "results_decision_tree = evaluate_model(model_decision_tree, X_test, Y_test)\n",
        "results_random_forest = evaluate_model(model_random_forest, X_test, Y_test)\n",
        "results_adaboost = evaluate_model(model_adaboost, X_test, Y_test)\n",
        "\n",
        "# Print results\n",
        "print(\"Decision Tree Results:\")\n",
        "for metric, value in results_decision_tree.items():\n",
        "    print(f\"{metric}: {value}\")\n",
        "print(\"\\nRandom Forest Results:\")\n",
        "for metric, value in results_random_forest.items():\n",
        "    print(f\"{metric}: {value}\")\n",
        "print(\"\\nAdaBoost Results:\")\n",
        "for metric, value in results_adaboost.items():\n",
        "    print(f\"{metric}: {value}\")\n",
        "\n",
        "# Determine the winner based on F1-Score\n",
        "f1_scores = {\n",
        "    \"Decision Tree\": results_decision_tree[\"F1-Score\"],\n",
        "    \"Random Forest\": results_random_forest[\"F1-Score\"],\n",
        "    \"AdaBoost\": results_adaboost[\"F1-Score\"]\n",
        "}\n",
        "\n",
        "winner = max(f1_scores, key=f1_scores.get)\n",
        "print(\"\\nWinner:\")\n",
        "print(f\"The best classifier is: {winner} with an F1-Score of {f1_scores[winner]:.2f}\")\n"
      ],
      "metadata": {
        "id": "MkTXQR3mrBmM",
        "colab": {
          "base_uri": "https://localhost:8080/"
        },
        "outputId": "63d9ff55-f40c-4306-9304-4bc8745f74ba"
      },
      "execution_count": 42,
      "outputs": [
        {
          "output_type": "stream",
          "name": "stdout",
          "text": [
            "Decision Tree Results:\n",
            "Accuracy: 0.9254385964912281\n",
            "Precision: 0.9776119402985075\n",
            "Recall: 0.903448275862069\n",
            "F1-Score: 0.9390681003584229\n",
            "Confusion Matrix: [[160   6]\n",
            " [ 28 262]]\n",
            "\n",
            "Random Forest Results:\n",
            "Accuracy: 0.9429824561403509\n",
            "Precision: 0.952054794520548\n",
            "Recall: 0.9586206896551724\n",
            "F1-Score: 0.9553264604810997\n",
            "Confusion Matrix: [[152  14]\n",
            " [ 12 278]]\n",
            "\n",
            "AdaBoost Results:\n",
            "Accuracy: 0.9276315789473685\n",
            "Precision: 0.9572953736654805\n",
            "Recall: 0.9275862068965517\n",
            "F1-Score: 0.9422066549912435\n",
            "Confusion Matrix: [[154  12]\n",
            " [ 21 269]]\n",
            "\n",
            "Winner:\n",
            "The best classifier is: Random Forest with an F1-Score of 0.96\n"
          ]
        }
      ]
    }
  ]
}